{
 "cells": [
  {
   "cell_type": "code",
   "execution_count": 1,
   "metadata": {},
   "outputs": [
    {
     "ename": "NameError",
     "evalue": "name 'Polygon' is not defined",
     "output_type": "error",
     "traceback": [
      "\u001b[1;31m---------------------------------------------------------------------------\u001b[0m",
      "\u001b[1;31mNameError\u001b[0m                                 Traceback (most recent call last)",
      "\u001b[1;32m<ipython-input-1-284450f3f10c>\u001b[0m in \u001b[0;36m<module>\u001b[1;34m\u001b[0m\n\u001b[0;32m     34\u001b[0m         \u001b[0md2\u001b[0m\u001b[1;33m.\u001b[0m\u001b[0msetFill\u001b[0m\u001b[1;33m(\u001b[0m\u001b[1;34m\"#00a0a0\"\u001b[0m\u001b[1;33m)\u001b[0m\u001b[1;33m\u001b[0m\u001b[1;33m\u001b[0m\u001b[0m\n\u001b[0;32m     35\u001b[0m         \u001b[0md2\u001b[0m\u001b[1;33m.\u001b[0m\u001b[0mdraw\u001b[0m\u001b[1;33m(\u001b[0m\u001b[0mw\u001b[0m\u001b[1;33m)\u001b[0m\u001b[1;33m\u001b[0m\u001b[1;33m\u001b[0m\u001b[0m\n\u001b[1;32m---> 36\u001b[1;33m \u001b[0mchl\u001b[0m\u001b[1;33m=\u001b[0m\u001b[0mPolygon\u001b[0m\u001b[1;33m(\u001b[0m\u001b[0mgr\u001b[0m\u001b[1;33m.\u001b[0m\u001b[0mPoint\u001b[0m\u001b[1;33m(\u001b[0m\u001b[1;36m650\u001b[0m\u001b[1;33m,\u001b[0m \u001b[1;36m300\u001b[0m\u001b[1;33m)\u001b[0m\u001b[1;33m,\u001b[0m\u001b[0mgr\u001b[0m\u001b[1;33m.\u001b[0m\u001b[0mPoint\u001b[0m\u001b[1;33m(\u001b[0m\u001b[1;36m750\u001b[0m\u001b[1;33m,\u001b[0m \u001b[1;36m400\u001b[0m\u001b[1;33m)\u001b[0m\u001b[1;33m,\u001b[0m\u001b[0mgr\u001b[0m\u001b[1;33m.\u001b[0m\u001b[0mPoint\u001b[0m\u001b[1;33m(\u001b[0m\u001b[1;36m650\u001b[0m\u001b[1;33m,\u001b[0m \u001b[1;36m300\u001b[0m\u001b[1;33m)\u001b[0m\u001b[1;33m)\u001b[0m\u001b[1;33m\u001b[0m\u001b[1;33m\u001b[0m\u001b[0m\n\u001b[0m\u001b[0;32m     37\u001b[0m \u001b[0mchl\u001b[0m\u001b[1;33m.\u001b[0m\u001b[0msetWidth\u001b[0m\u001b[1;33m(\u001b[0m\u001b[1;36m30\u001b[0m\u001b[1;33m)\u001b[0m\u001b[1;33m\u001b[0m\u001b[1;33m\u001b[0m\u001b[0m\n\u001b[0;32m     38\u001b[0m \u001b[0mw\u001b[0m\u001b[1;33m.\u001b[0m\u001b[0mgetMouse\u001b[0m\u001b[1;33m(\u001b[0m\u001b[1;33m)\u001b[0m\u001b[1;33m\u001b[0m\u001b[1;33m\u001b[0m\u001b[0m\n",
      "\u001b[1;31mNameError\u001b[0m: name 'Polygon' is not defined"
     ]
    }
   ],
   "source": [
    "import graphics as gr\n",
    "w = gr.GraphWin(\"My picture\", 1000, 1000)\n",
    "\n",
    "z=gr.Rectangle(gr.Point(0, 500), gr.Point(1000, 1000))\n",
    "z.setFill('green')\n",
    "z.draw(w)\n",
    "for i in range(50,1000,50):\n",
    "    tr=gr.Line(gr.Point(i, 400), gr.Point(i+50, 500))\n",
    "    tr.setOutline('green')\n",
    "    tr.draw(w)\n",
    "for i in range(100,1000,200):\n",
    "    for j in range (600,1000,200):\n",
    "        tsl1=gr.Circle(gr.Point(i-30, j-30), 50)\n",
    "        tsl1.setFill('white')\n",
    "        tsl1.draw(w)\n",
    "        tsl2=gr.Circle(gr.Point(i-30, j+30), 50)\n",
    "        tsl2.setFill('white')\n",
    "        tsl2.draw(w)\n",
    "        tsl3=gr.Circle(gr.Point(i+30, j-30), 50)\n",
    "        tsl3.setFill('white')\n",
    "        tsl3.draw(w)\n",
    "        tsl4=gr.Circle(gr.Point(i+30, j+30), 50)\n",
    "        tsl4.setFill('white')\n",
    "        tsl4.draw(w)\n",
    "        tsc=gr.Circle(gr.Point(i, j), 50)\n",
    "        tsl4.setFill('yellow')\n",
    "        tsc.draw(w)\n",
    "d1=gr.Rectangle(gr.Point(300, 400), gr.Point(400, 800))\n",
    "d1.setFill('brown') \n",
    "d1.draw(w)\n",
    "for i in range(200,600,100):\n",
    "    for j in range (100,500,100):\n",
    "        d2=gr.Circle(gr.Point(i, j), 150)\n",
    "        d2.setFill(\"#00a0a0\")\n",
    "        d2.draw(w)   \n",
    "chl=Polygon(gr.Point(650, 300),gr.Point(750, 400),gr.Point(650, 300))\n",
    "chl.setWidth(30)\n",
    "w.getMouse()\n",
    "w.close()"
   ]
  },
  {
   "cell_type": "code",
   "execution_count": null,
   "metadata": {},
   "outputs": [],
   "source": []
  },
  {
   "cell_type": "code",
   "execution_count": null,
   "metadata": {},
   "outputs": [],
   "source": []
  }
 ],
 "metadata": {
  "kernelspec": {
   "display_name": "Python 3",
   "language": "python",
   "name": "python3"
  },
  "language_info": {
   "codemirror_mode": {
    "name": "ipython",
    "version": 3
   },
   "file_extension": ".py",
   "mimetype": "text/x-python",
   "name": "python",
   "nbconvert_exporter": "python",
   "pygments_lexer": "ipython3",
   "version": "3.7.3"
  }
 },
 "nbformat": 4,
 "nbformat_minor": 2
}

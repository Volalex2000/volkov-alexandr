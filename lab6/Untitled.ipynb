{
 "cells": [
  {
   "cell_type": "code",
   "execution_count": null,
   "metadata": {},
   "outputs": [],
   "source": [
    "from tkinter import *\n",
    "\n",
    "root = Tk()\n",
    "root.geometry('600*800')\n",
    "\n",
    "e = Entry(root, width=20)\n",
    "b = Button(root, text=\"Преобразовать\")\n",
    "l = Label(root, bg='black', fg='white', width=20)\n",
    "\n",
    "e.pack()\n",
    "b.pack()\n",
    "l.pack()\n",
    "\n",
    "mainloop()"
   ]
  },
  {
   "cell_type": "code",
   "execution_count": null,
   "metadata": {},
   "outputs": [],
   "source": [
    "l = []\n",
    "l.append([1, 2, 3])\n",
    "l.append([13, 2, 3])\n",
    "print(l[1][2])"
   ]
  },
  {
   "cell_type": "code",
   "execution_count": null,
   "metadata": {},
   "outputs": [],
   "source": []
  }
 ],
 "metadata": {
  "kernelspec": {
   "display_name": "Python 3",
   "language": "python",
   "name": "python3"
  }
 },
 "nbformat": 4,
 "nbformat_minor": 2
}

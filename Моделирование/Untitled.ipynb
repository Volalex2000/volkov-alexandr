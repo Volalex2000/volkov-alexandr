{
 "cells": [
  {
   "cell_type": "code",
   "execution_count": 2,
   "metadata": {
    "scrolled": true
   },
   "outputs": [
    {
     "name": "stdout",
     "output_type": "stream",
     "text": [
      "time is\n",
      "10\n",
      "number_elements is\n",
      "3\n",
      "temperature is\n",
      "5\n",
      "density is\n",
      "0.3\n",
      "length = \n",
      "3.3333333333333335\n",
      "b\n",
      "b\n",
      "b\n",
      "a\n",
      "a\n",
      "a\n",
      "b\n",
      "b\n",
      "b\n",
      "a\n"
     ]
    },
    {
     "ename": "IndexError",
     "evalue": "list index out of range",
     "output_type": "error",
     "traceback": [
      "\u001b[1;31m---------------------------------------------------------------------------\u001b[0m",
      "\u001b[1;31mIndexError\u001b[0m                                Traceback (most recent call last)",
      "\u001b[1;32m<ipython-input-2-3c6a5971c213>\u001b[0m in \u001b[0;36m<module>\u001b[1;34m\u001b[0m\n\u001b[0;32m    115\u001b[0m         \u001b[0mchange_coordinates\u001b[0m\u001b[1;33m(\u001b[0m\u001b[1;33m)\u001b[0m\u001b[1;33m\u001b[0m\u001b[1;33m\u001b[0m\u001b[0m\n\u001b[0;32m    116\u001b[0m \u001b[1;33m\u001b[0m\u001b[0m\n\u001b[1;32m--> 117\u001b[1;33m \u001b[0mmain\u001b[0m\u001b[1;33m(\u001b[0m\u001b[1;33m)\u001b[0m\u001b[1;33m\u001b[0m\u001b[1;33m\u001b[0m\u001b[0m\n\u001b[0m\u001b[0;32m    118\u001b[0m \u001b[1;33m\u001b[0m\u001b[0m\n",
      "\u001b[1;32m<ipython-input-2-3c6a5971c213>\u001b[0m in \u001b[0;36mmain\u001b[1;34m()\u001b[0m\n\u001b[0;32m    109\u001b[0m     \u001b[1;32mglobal\u001b[0m \u001b[0mtime\u001b[0m\u001b[1;33m\u001b[0m\u001b[1;33m\u001b[0m\u001b[0m\n\u001b[0;32m    110\u001b[0m     \u001b[0minitial_conditions\u001b[0m\u001b[1;33m(\u001b[0m\u001b[1;33m)\u001b[0m\u001b[1;33m\u001b[0m\u001b[1;33m\u001b[0m\u001b[0m\n\u001b[1;32m--> 111\u001b[1;33m     \u001b[0mcreat_elements\u001b[0m\u001b[1;33m(\u001b[0m\u001b[1;33m)\u001b[0m\u001b[1;33m\u001b[0m\u001b[1;33m\u001b[0m\u001b[0m\n\u001b[0m\u001b[0;32m    112\u001b[0m     \u001b[1;32mfor\u001b[0m \u001b[0mi\u001b[0m \u001b[1;32min\u001b[0m \u001b[0mrange\u001b[0m\u001b[1;33m(\u001b[0m\u001b[0mtime\u001b[0m\u001b[1;33m)\u001b[0m\u001b[1;33m:\u001b[0m\u001b[1;31m#движение во времени\u001b[0m\u001b[1;33m\u001b[0m\u001b[1;33m\u001b[0m\u001b[0m\n\u001b[0;32m    113\u001b[0m         \u001b[0mchange_force\u001b[0m\u001b[1;33m(\u001b[0m\u001b[1;33m)\u001b[0m\u001b[1;33m\u001b[0m\u001b[1;33m\u001b[0m\u001b[0m\n",
      "\u001b[1;32m<ipython-input-2-3c6a5971c213>\u001b[0m in \u001b[0;36mcreat_elements\u001b[1;34m()\u001b[0m\n\u001b[0;32m     54\u001b[0m             \u001b[1;32melse\u001b[0m\u001b[1;33m:\u001b[0m\u001b[1;33m\u001b[0m\u001b[1;33m\u001b[0m\u001b[0m\n\u001b[0;32m     55\u001b[0m                 \u001b[0melems\u001b[0m\u001b[1;33m[\u001b[0m\u001b[0mi\u001b[0m\u001b[1;33m]\u001b[0m\u001b[1;33m[\u001b[0m\u001b[1;34m'v'\u001b[0m \u001b[1;33m+\u001b[0m \u001b[0mcoord\u001b[0m\u001b[1;33m]\u001b[0m \u001b[1;33m=\u001b[0m \u001b[0melems\u001b[0m\u001b[1;33m[\u001b[0m\u001b[0mi\u001b[0m\u001b[1;33m]\u001b[0m\u001b[1;33m[\u001b[0m\u001b[1;34m'v'\u001b[0m \u001b[1;33m+\u001b[0m \u001b[0mcoord\u001b[0m\u001b[1;33m]\u001b[0m \u001b[1;33m*\u001b[0m \u001b[0mspeed_temperature\u001b[0m \u001b[1;33m/\u001b[0m \u001b[0mv1\u001b[0m\u001b[1;33m\u001b[0m\u001b[1;33m\u001b[0m\u001b[0m\n\u001b[1;32m---> 56\u001b[1;33m                 \u001b[0melems\u001b[0m\u001b[1;33m[\u001b[0m\u001b[0mi\u001b[0m\u001b[1;33m+\u001b[0m\u001b[1;36m1\u001b[0m\u001b[1;33m]\u001b[0m\u001b[1;33m[\u001b[0m\u001b[1;34m'v'\u001b[0m \u001b[1;33m+\u001b[0m \u001b[0mcoord\u001b[0m\u001b[1;33m]\u001b[0m \u001b[1;33m=\u001b[0m \u001b[1;33m-\u001b[0m \u001b[0melems\u001b[0m\u001b[1;33m[\u001b[0m\u001b[0mi\u001b[0m\u001b[1;33m+\u001b[0m\u001b[1;36m1\u001b[0m\u001b[1;33m]\u001b[0m\u001b[1;33m[\u001b[0m\u001b[1;34m'v'\u001b[0m \u001b[1;33m+\u001b[0m \u001b[0mcoord\u001b[0m\u001b[1;33m]\u001b[0m \u001b[1;33m*\u001b[0m \u001b[0mspeed_temperature\u001b[0m \u001b[1;33m/\u001b[0m \u001b[0mv1\u001b[0m\u001b[1;33m\u001b[0m\u001b[1;33m\u001b[0m\u001b[0m\n\u001b[0m\u001b[0;32m     57\u001b[0m \u001b[1;33m\u001b[0m\u001b[0m\n\u001b[0;32m     58\u001b[0m \u001b[1;32mdef\u001b[0m \u001b[0mchange_coordinates\u001b[0m\u001b[1;33m(\u001b[0m\u001b[1;33m)\u001b[0m\u001b[1;33m:\u001b[0m\u001b[1;33m\u001b[0m\u001b[1;33m\u001b[0m\u001b[0m\n",
      "\u001b[1;31mIndexError\u001b[0m: list index out of range"
     ]
    }
   ],
   "source": [
    "from random import randrange as rnd\n",
    "\n",
    "def initial_conditions():#начальные условия\n",
    "    global time, number_elements, length, speed_temperature, min_distance, number_attempt\n",
    "    print('time is')\n",
    "    time = int(input())#время процесса\n",
    "    print('number_elements is')\n",
    "    number_elements = int(input())#кол-во частиц\n",
    "    print('temperature is')\n",
    "    temperature = float(input())\n",
    "    print('density is')\n",
    "    density = float(input())\n",
    "    \n",
    "    speed_temperature = temperature ** 0.5\n",
    "    length = (number_elements / density) ** 1/3\n",
    "    print('length = ')\n",
    "    print(length)\n",
    "    min_distance = 0.1\n",
    "    number_attempt = 30\n",
    "    \n",
    "def creat_elements():#задает начальные условия частицам\n",
    "    global number_elements, elems, speed_temperature, min_distance, number_attempt\n",
    "    elems = []#список частиц и их свойства\n",
    "    displacement = {'x': 0, 'y': 0, 'z': 0}\n",
    "    for i in range(number_elements):#кол-во частиц\n",
    "        element = {}\n",
    "        for coord in ['x', 'y', 'z']:\n",
    "            element[coord] = 0\n",
    "            element['f' + coord] = 0\n",
    "            element['v' + coord] = 0\n",
    "            for j in range(i):\n",
    "                attempt = 0\n",
    "                while True:\n",
    "                    element[coord] = rnd(int(-length), int(length), 1)\n",
    "                    if abs(element[coord] - elems[j][coord]) >= min_distance:\n",
    "                        break\n",
    "                    else:\n",
    "                        attempt += 1\n",
    "                        if attempt == number_attempt:\n",
    "                            raise SystemError('проблемы с расстановкой частиц')\n",
    "        elems.append(element)\n",
    "        \n",
    "    for i in range(0, number_elements, 2):\n",
    "        for coord in ['x', 'y', 'z']:\n",
    "            elems[i]['v' + coord] = rnd(0, 3, 1)\n",
    "            print('b')\n",
    "        v1 = (elems[i]['vx'] ** 2 + elems[i]['vy'] ** 2 + elems[i]['vz'] ** 2) ** 0.5\n",
    "        \n",
    "        for coord in ['x', 'y', 'z']:\n",
    "            print('a')\n",
    "            if v1 == 0:\n",
    "                elems[i]['v' + coord] = 0 \n",
    "                elems[i+1]['v' + coord] = 0\n",
    "            else:\n",
    "                elems[i]['v' + coord] = elems[i]['v' + coord] * speed_temperature / v1\n",
    "                elems[i+1]['v' + coord] = - elems[i+1]['v' + coord] * speed_temperature / v1\n",
    "        \n",
    "def change_coordinates():\n",
    "    global elems, length\n",
    "    for element in elems:\n",
    "        for coord in ['x', 'y', 'z']:\n",
    "            element[coord] += element['v' + coord]\n",
    "            if element[coord] >= length:\n",
    "                element[coord] = -2 * length + element[coord]\n",
    "            if element[coord] <= -length:\n",
    "                element[coord] = 2 * length + element[coord] \n",
    "        \n",
    "def change_speed():\n",
    "    global elems\n",
    "    for element in elems:\n",
    "        print('далее')\n",
    "        for coord in ['x', 'y', 'z']:\n",
    "            element['v' + coord] += element['f' + coord]  \n",
    "            print(element['v' + coord]) \n",
    "            \n",
    "\n",
    "def change_force():\n",
    "    global elems, displacement\n",
    "    displacement = {}\n",
    "    for a in range(number_elements):\n",
    "        for b in range(number_elements):\n",
    "            print('s')\n",
    "            if a == b:\n",
    "                continue\n",
    "            for coord in ['x', 'y', 'z']:\n",
    "                elems[a]['f' + coord] = 0\n",
    "                creat_displacement(a, b, coord)\n",
    "            for coord in ['x', 'y', 'z']:\n",
    "                elems[a]['f' + coord] += elems[b]['f' + coord] + force_2_elem(a, b, coord)\n",
    "                \n",
    "def creat_displacement(a, b, coord):\n",
    "    global elems, length\n",
    "    if elems[a][coord] - elems[b][coord] >= length:\n",
    "        displacement[coord] = -length\n",
    "    elif elems[a][coord] - elems[b][coord] <= -length:\n",
    "        displacement[coord] = length\n",
    "    else:\n",
    "        displacement[coord] = 0\n",
    "            \n",
    "def force_2_elem(a, b, coord): \n",
    "    global elems, displacement\n",
    "    return -4 * (elems[a][coord] - elems[b][coord] + displacement[coord]) * (6 / (r2(a,b) ** 4) - 12 / (r2(a,b) ** 7))\n",
    "\n",
    "def r2(a, b):\n",
    "    global elems, displacement\n",
    "    return (elems[a]['x'] - elems[b]['x'] + displacement['x'])**2 + (elems[a]['y'] - elems[b]['y'] + displacement['y'])**2 + (elems[a]['z'] - elems[b]['z'] + displacement['z'])**2\n",
    "        \n",
    "def main():\n",
    "    global time\n",
    "    initial_conditions()\n",
    "    creat_elements()\n",
    "    for i in range(time):#движение во времени \n",
    "        change_force()\n",
    "        change_speed()\n",
    "        change_coordinates()\n",
    "\n",
    "main()\n",
    "        "
   ]
  },
  {
   "cell_type": "markdown",
   "metadata": {},
   "source": [
    "# l = []\n",
    "l.append([1, 2, 3])\n",
    "l.append([13, 2, 3])\n",
    "print(l[1][2])"
   ]
  },
  {
   "cell_type": "markdown",
   "metadata": {},
   "source": [
    "3\n",
    "## l = []\n",
    "k = {}\n",
    "k['1'] = 1\n",
    "k['2'] = 3\n",
    "l.append(k)\n",
    "k1 = {}\n",
    "k1['1'] = 1\n",
    "k1['2'] = 3\n",
    "l.append(k1)\n",
    "print(l[1]['2'])"
   ]
  },
  {
   "cell_type": "code",
   "execution_count": 2,
   "metadata": {},
   "outputs": [
    {
     "name": "stdout",
     "output_type": "stream",
     "text": [
      "2\n"
     ]
    }
   ],
   "source": [
    "a = 'x'\n",
    "c = {'fx':2}\n",
    "b = 'f'\n",
    "print(c[b+a])"
   ]
  },
  {
   "cell_type": "code",
   "execution_count": 2,
   "metadata": {},
   "outputs": [
    {
     "name": "stdout",
     "output_type": "stream",
     "text": [
      "Help on method randrange in module random:\n",
      "\n",
      "randrange(start, stop=None, step=1, _int=<class 'int'>) method of random.Random instance\n",
      "    Choose a random item from range(start, stop[, step]).\n",
      "    \n",
      "    This fixes the problem with randint() which includes the\n",
      "    endpoint; in Python this is usually not what you want.\n",
      "\n"
     ]
    }
   ],
   "source": [
    "from random import randrange as rnd\n",
    "help(rnd)"
   ]
  },
  {
   "cell_type": "code",
   "execution_count": 1,
   "metadata": {},
   "outputs": [
    {
     "name": "stdout",
     "output_type": "stream",
     "text": [
      "Help on class ValueError in module builtins:\n",
      "\n",
      "class ValueError(Exception)\n",
      " |  Inappropriate argument value (of correct type).\n",
      " |  \n",
      " |  Method resolution order:\n",
      " |      ValueError\n",
      " |      Exception\n",
      " |      BaseException\n",
      " |      object\n",
      " |  \n",
      " |  Methods defined here:\n",
      " |  \n",
      " |  __init__(self, /, *args, **kwargs)\n",
      " |      Initialize self.  See help(type(self)) for accurate signature.\n",
      " |  \n",
      " |  ----------------------------------------------------------------------\n",
      " |  Static methods defined here:\n",
      " |  \n",
      " |  __new__(*args, **kwargs) from builtins.type\n",
      " |      Create and return a new object.  See help(type) for accurate signature.\n",
      " |  \n",
      " |  ----------------------------------------------------------------------\n",
      " |  Methods inherited from BaseException:\n",
      " |  \n",
      " |  __delattr__(self, name, /)\n",
      " |      Implement delattr(self, name).\n",
      " |  \n",
      " |  __getattribute__(self, name, /)\n",
      " |      Return getattr(self, name).\n",
      " |  \n",
      " |  __reduce__(...)\n",
      " |      Helper for pickle.\n",
      " |  \n",
      " |  __repr__(self, /)\n",
      " |      Return repr(self).\n",
      " |  \n",
      " |  __setattr__(self, name, value, /)\n",
      " |      Implement setattr(self, name, value).\n",
      " |  \n",
      " |  __setstate__(...)\n",
      " |  \n",
      " |  __str__(self, /)\n",
      " |      Return str(self).\n",
      " |  \n",
      " |  with_traceback(...)\n",
      " |      Exception.with_traceback(tb) --\n",
      " |      set self.__traceback__ to tb and return self.\n",
      " |  \n",
      " |  ----------------------------------------------------------------------\n",
      " |  Data descriptors inherited from BaseException:\n",
      " |  \n",
      " |  __cause__\n",
      " |      exception cause\n",
      " |  \n",
      " |  __context__\n",
      " |      exception context\n",
      " |  \n",
      " |  __dict__\n",
      " |  \n",
      " |  __suppress_context__\n",
      " |  \n",
      " |  __traceback__\n",
      " |  \n",
      " |  args\n",
      "\n"
     ]
    }
   ],
   "source": [
    "help(ValueError)"
   ]
  },
  {
   "cell_type": "code",
   "execution_count": 3,
   "metadata": {},
   "outputs": [
    {
     "ename": "ValueError",
     "evalue": "math domain error",
     "output_type": "error",
     "traceback": [
      "\u001b[1;31m---------------------------------------------------------------------------\u001b[0m",
      "\u001b[1;31mValueError\u001b[0m                                Traceback (most recent call last)",
      "\u001b[1;32m<ipython-input-3-53040fb61b3f>\u001b[0m in \u001b[0;36m<module>\u001b[1;34m\u001b[0m\n\u001b[0;32m      1\u001b[0m \u001b[1;32mfrom\u001b[0m \u001b[0mmath\u001b[0m \u001b[1;32mimport\u001b[0m \u001b[0msqrt\u001b[0m\u001b[1;33m\u001b[0m\u001b[1;33m\u001b[0m\u001b[0m\n\u001b[1;32m----> 2\u001b[1;33m \u001b[0msqrt\u001b[0m\u001b[1;33m(\u001b[0m\u001b[1;33m-\u001b[0m\u001b[1;36m2\u001b[0m\u001b[1;33m)\u001b[0m\u001b[1;33m\u001b[0m\u001b[1;33m\u001b[0m\u001b[0m\n\u001b[0m",
      "\u001b[1;31mValueError\u001b[0m: math domain error"
     ]
    }
   ],
   "source": [
    "from math import sqrt\n",
    "sqrt(-2)"
   ]
  },
  {
   "cell_type": "code",
   "execution_count": 1,
   "metadata": {},
   "outputs": [
    {
     "name": "stdout",
     "output_type": "stream",
     "text": [
      "Help on ZMQExitAutocall in module IPython.core.autocall object:\n",
      "\n",
      "class ZMQExitAutocall(ExitAutocall)\n",
      " |  ZMQExitAutocall(ip=None)\n",
      " |  \n",
      " |  Exit IPython. Autocallable, so it needn't be explicitly called.\n",
      " |  \n",
      " |  Parameters\n",
      " |  ----------\n",
      " |  keep_kernel : bool\n",
      " |    If True, leave the kernel alive. Otherwise, tell the kernel to exit too\n",
      " |    (default).\n",
      " |  \n",
      " |  Method resolution order:\n",
      " |      ZMQExitAutocall\n",
      " |      ExitAutocall\n",
      " |      IPyAutocall\n",
      " |      builtins.object\n",
      " |  \n",
      " |  Methods defined here:\n",
      " |  \n",
      " |  __call__(self, keep_kernel=False)\n",
      " |      Call self as a function.\n",
      " |  \n",
      " |  ----------------------------------------------------------------------\n",
      " |  Data and other attributes inherited from ExitAutocall:\n",
      " |  \n",
      " |  rewrite = False\n",
      " |  \n",
      " |  ----------------------------------------------------------------------\n",
      " |  Methods inherited from IPyAutocall:\n",
      " |  \n",
      " |  __init__(self, ip=None)\n",
      " |      Initialize self.  See help(type(self)) for accurate signature.\n",
      " |  \n",
      " |  set_ip(self, ip)\n",
      " |      Will be used to set _ip point to current ipython instance b/f call\n",
      " |      \n",
      " |      Override this method if you don't want this to happen.\n",
      " |  \n",
      " |  ----------------------------------------------------------------------\n",
      " |  Data descriptors inherited from IPyAutocall:\n",
      " |  \n",
      " |  __dict__\n",
      " |      dictionary for instance variables (if defined)\n",
      " |  \n",
      " |  __weakref__\n",
      " |      list of weak references to the object (if defined)\n",
      "\n"
     ]
    }
   ],
   "source": [
    "help(exit)"
   ]
  },
  {
   "cell_type": "code",
   "execution_count": null,
   "metadata": {},
   "outputs": [],
   "source": []
  }
 ],
 "metadata": {
  "kernelspec": {
   "display_name": "Python 3",
   "language": "python",
   "name": "python3"
  },
  "language_info": {
   "codemirror_mode": {
    "name": "ipython",
    "version": 3
   },
   "file_extension": ".py",
   "mimetype": "text/x-python",
   "name": "python",
   "nbconvert_exporter": "python",
   "pygments_lexer": "ipython3",
   "version": "3.7.3"
  }
 },
 "nbformat": 4,
 "nbformat_minor": 2
}

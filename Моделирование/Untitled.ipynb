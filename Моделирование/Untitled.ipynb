from random import uniform as rnd, choice


file_name = 'particles_energy.txt'
data = []


def initial_conditions():#начальные условия
    global time, number_elements, length, speed_temperature2, min_distance, number_attempt, time_window
    print('time is')
    time = int(input())#время процесса
    print('number_elements is')
    number_elements = int(input())#кол-во частиц
    print('temperature is')
    temperature = float(input())
    print('density is')
    density = float(input())
    print('time_window is')
    time_window = float(input())
    
    speed_temperature2 = 3 * temperature
    length = (number_elements / density) ** 1/3
    min_distance = 1
    number_attempt = 30
    
def creat_elements():#задает начальные условия частицам
    global number_elements, elems, speed_temperature2, min_distance, number_attempt
    elems = []#список частиц и их свойства
    displacement = {'x': 0, 'y': 0, 'z': 0}
    for i in range(number_elements):#задает начальные координаты, создает f, v  - работатет 
        element = {}
        for coord in ['x', 'y', 'z']:
            element['f' + coord] = 0
            element['v' + coord] = 1
            if i == 0:
                element[coord] = rnd(-length, length)
        for j in range(i):#задание координат и проверка близости по т Пифогора - работает
            attempt = 0
            while True:
                for coord in ['x', 'y', 'z']:
                    element[coord] = rnd(-length, length)
                if (element['x'] - elems[j]['x']) ** 2 + (element['y'] - elems[j]['y']) ** 2 + (element['z'] - elems[j]['z']) ** 2 >= min_distance:
                    break
                else:
                    attempt += 1
                    if attempt == number_attempt:
                        raise SystemError('проблемы с расстановкой частиц')
        elems.append(element)
        
    for i in range(0, number_elements, 2):#задание начальных скоростей, импульс цм = 0 - работает
        for coord in ['x', 'y', 'z']:
            elems[i]['v' + coord] = rnd(1, 3)
        v1 = (elems[i]['vx'] ** 2 + elems[i]['vy'] ** 2 + elems[i]['vz'] ** 2) * choice([1, -1])
        for coord in ['x', 'y', 'z']:
            if v1 == 0:
                elems[i]['v' + coord] = 0 
                elems[i+1]['v' + coord] = 0
            else:
                elems[i]['v' + coord] = elems[i]['v' + coord] * speed_temperature2 / v1
                elems[i+1]['v' + coord] = - elems[i+1]['v' + coord] * speed_temperature2 / v1
        
def change_coordinates():
    global elems, length, time_window
    for element in elems:
        for coord in ['x', 'y', 'z']:
            element[coord] += element['v' + coord] * time_window
            if element[coord] >= length:
                element[coord] = -2 * length + element[coord]
            if element[coord] <= -length:
                element[coord] = 2 * length + element[coord] 
        
        
def change_speed():
    global elems, time_window
    for element in elems:
        for coord in ['x', 'y', 'z']:
            element['v' + coord] += element['f' + coord] * time_window
            

def change_force():
    global elems, displacement
    displacement = {}
    for a in range(number_elements):
        for b in range(number_elements):
            #print('s')
            if a == number_elements - 1 and b == number_elements:
                for coord in ['x', 'y', 'z']:
                    print(elems[a]['f' + coord])#exp
            if a == b:
                continue
            for coord in ['x', 'y', 'z']:
                elems[a]['f' + coord] = 0
                creat_displacement(a, b, coord)
            for coord in ['x', 'y', 'z']:
                elems[a]['f' + coord] += elems[b]['f' + coord] + force_2_elem(a, b, coord)
             
            
def creat_displacement(a, b, coord):
    global elems, length
    if elems[a][coord] - elems[b][coord] >= length:
        displacement[coord] = -length
    elif elems[a][coord] - elems[b][coord] <= -length:
        displacement[coord] = length
    else:
        displacement[coord] = 0
        
        
def force_2_elem(a, b, coord): 
    global elems, displacement
    return -4 * (elems[a][coord] - elems[b][coord] + displacement[coord]) * (6 / (r2(a,b) ** 4) - 12 / (r2(a,b) ** 7))


def r2(a, b):
    global elems, displacement
    return (elems[a]['x'] - elems[b]['x'] + displacement['x'])**2 + (elems[a]['y'] - elems[b]['y'] + displacement['y'])**2 + (elems[a]['z'] - elems[b]['z'] + displacement['z'])**2
    
def account_k_energy():
    global k_energy
    k_energy = 0
    for i in range(number_elements):
        k_energy += 0.5 * (elems[i]['vx'] ** 2 + elems[i]['vy'] ** 2 + elems[i]['vz'] ** 2)
    #print(k_energy) 
       
        
def account_p_energy():
    global p_energy
    p_energy = 0
    for i in range(number_elements):
        for j in range(i):
            p_energy += 4 * (1 / r2(i, j) ** 6 - 1 / r2(i, j) ** 3)
    #print(p_energy)
    
    
def account_all_energy():
    global k_energy, p_energy
    all_energy = p_energy + k_energy
    with open(file_name, 'a') as f:
        f.write(str(all_energy) + '\n')
    data.append(all_energy)
    #print(all_energy)
    
    
def main():
    global time
    initial_conditions()
    creat_elements()
    with open(file_name, 'w') as f:
        pass
    for i in range(time):
        change_force()
        change_speed()
        change_coordinates()
        account_k_energy()
        account_p_energy()
        account_all_energy()
        #print('next')
        
main()
print('finish')

%matplotlib inline

import matplotlib.pyplot as plt

T = list(range(time))

plt.plot(T, data)
plt.xlabel('t')
plt.ylabel('y')
plt.grid(which='both')
plt.savefig('time-energy.png')
plt.show()
